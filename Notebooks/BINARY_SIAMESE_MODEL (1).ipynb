{
  "cells": [
    {
      "cell_type": "code",
      "execution_count": 1,
      "metadata": {
        "id": "lKRghSkhKRAM"
      },
      "outputs": [],
      "source": [
        "import pickle\n",
        "import re\n",
        "\n",
        "import numpy as np\n",
        "import pandas as pd\n",
        "from nltk.corpus import stopwords\n",
        "from nltk.stem import PorterStemmer\n",
        "from nltk.tokenize import word_tokenize\n",
        "from tensorflow.keras.preprocessing.sequence import pad_sequences"
      ]
    },
    {
      "cell_type": "code",
      "execution_count": 2,
      "metadata": {
        "colab": {
          "base_uri": "https://localhost:8080/"
        },
        "id": "X-R3wzCxeS0B",
        "outputId": "bd77f6d3-6ad7-43da-cece-f509d5767104"
      },
      "outputs": [],
      "source": [
        "import nltk\n",
        "# nltk.download('all')"
      ]
    },
    {
      "cell_type": "code",
      "execution_count": 3,
      "metadata": {
        "colab": {
          "base_uri": "https://localhost:8080/"
        },
        "id": "5nuSFI_wdzh7",
        "outputId": "04ff979c-c568-4036-ebfc-83086d628979"
      },
      "outputs": [
        {
          "name": "stdout",
          "output_type": "stream",
          "text": [
            "Mounted at /content/gdrive\n"
          ]
        }
      ],
      "source": [
        "# from google.colab import drive\n",
        "# drive.mount('/content/gdrive')"
      ]
    },
    {
      "cell_type": "code",
      "execution_count": 6,
      "metadata": {
        "id": "DdMD7spIYmSI"
      },
      "outputs": [],
      "source": [
        "# DATA_PATH = \"/content/gdrive/MyDrive/SNLI/\"\n",
        "DATA_PATH = \"../data/SNLI/\"\n",
        "TRAIN_DATA_PATH = DATA_PATH +'train.csv'\n",
        "DEV_DATA_PATH = DATA_PATH +'dev.csv'\n",
        "TEST_DATA_PATH = DATA_PATH +'test.csv'\n",
        "MAX_LEN = 50\n",
        "BINARY_VOCAB_PATH = DATA_PATH +'vocab_binary1mill.pkl'\n",
        "BATCH_SIZE = 64\n",
        "EPOCHS = 5\n",
        "LEARNING_RATE = 0.001"
      ]
    },
    {
      "cell_type": "markdown",
      "metadata": {
        "id": "K9hzI1uCEbtO"
      },
      "source": [
        "## Preprocessing Functions"
      ]
    },
    {
      "cell_type": "code",
      "execution_count": 7,
      "metadata": {
        "id": "lWdpVK-NYaQV"
      },
      "outputs": [],
      "source": [
        "def clean_word(sentence):\n",
        "    sentence = sentence.lower()\n",
        "    sentence = re.sub(r'[^a-zA-Z ]', '', sentence)\n",
        "    return sentence\n",
        "\n",
        "\n",
        "def read_data(filepath):\n",
        "    df = pd.read_csv(filepath)\n",
        "    similarity_map = {\n",
        "        'neutral': np.nan,\n",
        "        'contradiction': 0,\n",
        "        'entailment': 1,\n",
        "        '-': np.nan\n",
        "    }\n",
        "    df['similarity'] = df['similarity'].apply(\n",
        "        lambda column: similarity_map[column])\n",
        "    df.dropna(axis=0, inplace=True)\n",
        "    df['sentence1'] = df['sentence1'].apply(clean_word)\n",
        "    df['sentence2'] = df['sentence2'].apply(clean_word)\n",
        "    return df\n",
        "\n",
        "\n",
        "def tokenize(sentences):\n",
        "    tokens = []\n",
        "    for sentence in sentences:\n",
        "        tokens.append(word_tokenize(sentence))\n",
        "    return tokens\n",
        "\n",
        "\n",
        "def stem_word(sentences):\n",
        "    tokens = []\n",
        "    stemmer = PorterStemmer()\n",
        "    for sentence in sentences:\n",
        "        sentence_tokens = []\n",
        "        for word in sentence:\n",
        "            sentence_tokens.append(stemmer.stem(word))\n",
        "        tokens.append(sentence_tokens)\n",
        "\n",
        "    return tokens\n",
        "\n",
        "\n",
        "def remove_stopwords(sentences):\n",
        "    tokens = []\n",
        "    stop = stopwords.words('english')\n",
        "    for sentence in sentences:\n",
        "        new_sen = []\n",
        "        for word in sentence:\n",
        "            if word not in stop:\n",
        "                new_sen.append(word)\n",
        "        tokens.append(new_sen)\n",
        "    return tokens\n",
        "\n",
        "\n",
        "def flatten(item_list):\n",
        "    return [item for sublist in item_list for item in sublist]\n",
        "\n",
        "\n",
        "def create_vocabulary(sentence1, sentence2):\n",
        "    sentence1 = set(flatten(sentence1))\n",
        "    sentence2 = set(flatten(sentence2))\n",
        "    vocab = sentence1.union(sentence2)\n",
        "    return sorted(list(vocab))\n",
        "\n",
        "\n",
        "def create_mappings(vocab):\n",
        "    word2idx = {word: idx + 2 for idx, word in enumerate(vocab)}\n",
        "    idx2word = {idx + 2: word for idx, word in enumerate(vocab)}\n",
        "    return word2idx, idx2word\n",
        "\n",
        "\n",
        "def map_to_token(map_dict, tokens):\n",
        "    all_tokens = []\n",
        "    for sentence in tokens:\n",
        "        sentence_tokens = []\n",
        "        for word in sentence:\n",
        "            if word in map_dict.keys():\n",
        "                sentence_tokens.append(map_dict[word])\n",
        "            else:\n",
        "                sentence_tokens.append(1)\n",
        "        all_tokens.append(sentence_tokens)\n",
        "    return all_tokens\n",
        "\n",
        "\n",
        "def prepare_data(\n",
        "        sentence1,\n",
        "        sentence2,\n",
        "        vocab_path,\n",
        "        training=True,\n",
        "        return_vocab=False):\n",
        "    tokens1 = tokenize(sentence1)\n",
        "    tokens2 = tokenize(sentence2)\n",
        "\n",
        "    stemed_tokens1 = stem_word(tokens1)\n",
        "    stemed_tokens2 = stem_word(tokens2)\n",
        "\n",
        "    if training:\n",
        "        vocab = create_vocabulary(\n",
        "            stemed_tokens1, stemed_tokens2)\n",
        "        pickle.dump(vocab, open(vocab_path, 'wb'))\n",
        "\n",
        "    else:\n",
        "        vocab = pickle.load(open(vocab_path, 'rb'))\n",
        "\n",
        "    word2idx, idx2word = create_mappings(vocab)\n",
        "\n",
        "    idx_tokens1 = map_to_token(word2idx, stemed_tokens1)\n",
        "    idx_tokens2 = map_to_token(word2idx, stemed_tokens2)\n",
        "\n",
        "    padded_tokens1 = pad_sequences(idx_tokens1, maxlen=MAX_LEN)\n",
        "    padded_tokens1 = pad_sequences(idx_tokens2, maxlen=MAX_LEN)\n",
        "\n",
        "    data1 = np.array(padded_tokens1, dtype='object').astype('int32')\n",
        "    data2 = np.array(padded_tokens1, dtype='object').astype('int32')\n",
        "    if return_vocab:\n",
        "        return vocab, data1, data2\n",
        "    return data1, data2\n",
        "    # return stemed_tokens1, stemed_tokens2\n",
        "\n",
        "\n",
        "def return_vocab(vocab_path):\n",
        "    vocab = pickle.load(open(vocab_path, 'rb'))\n",
        "    return vocab"
      ]
    },
    {
      "cell_type": "markdown",
      "metadata": {
        "id": "qu-e7CDrEhpk"
      },
      "source": [
        "## 1. Word Count model"
      ]
    },
    {
      "cell_type": "code",
      "execution_count": 8,
      "metadata": {
        "id": "RUIDX5YBEkIb"
      },
      "outputs": [],
      "source": [
        "df_train = read_data(TRAIN_DATA_PATH)\n",
        "df_dev = read_data(DEV_DATA_PATH)\n",
        "df_test = read_data(TEST_DATA_PATH)"
      ]
    },
    {
      "cell_type": "code",
      "execution_count": 9,
      "metadata": {
        "id": "9tUpBL-QEz6u"
      },
      "outputs": [],
      "source": [
        "train_df = df_train.copy()\n",
        "test_df = df_test.copy()"
      ]
    },
    {
      "cell_type": "code",
      "execution_count": 10,
      "metadata": {
        "id": "7FOUNRHjEkFv"
      },
      "outputs": [],
      "source": [
        "def count_words(column):\n",
        "    return len(column)"
      ]
    },
    {
      "cell_type": "code",
      "execution_count": null,
      "metadata": {
        "id": "d5UQRcq1EkC6"
      },
      "outputs": [],
      "source": [
        "train_df['char_counts_1'] = train_df['sentence1'].apply(count_words)\n",
        "train_df['char_counts_2'] = train_df['sentence2'].apply(count_words)\n",
        "\n",
        "test_df['char_counts_1'] = test_df['sentence1'].apply(count_words)\n",
        "test_df['char_counts_2'] = test_df['sentence2'].apply(count_words)"
      ]
    },
    {
      "cell_type": "code",
      "execution_count": null,
      "metadata": {
        "colab": {
          "base_uri": "https://localhost:8080/",
          "height": 258
        },
        "id": "gfJAnSjFE_aW",
        "outputId": "040e44af-563a-4446-af6c-45c36829d3cc"
      },
      "outputs": [
        {
          "data": {
            "text/html": [
              "<div>\n",
              "<style scoped>\n",
              "    .dataframe tbody tr th:only-of-type {\n",
              "        vertical-align: middle;\n",
              "    }\n",
              "\n",
              "    .dataframe tbody tr th {\n",
              "        vertical-align: top;\n",
              "    }\n",
              "\n",
              "    .dataframe thead th {\n",
              "        text-align: right;\n",
              "    }\n",
              "</style>\n",
              "<table border=\"1\" class=\"dataframe\">\n",
              "  <thead>\n",
              "    <tr style=\"text-align: right;\">\n",
              "      <th></th>\n",
              "      <th>similarity</th>\n",
              "      <th>sentence1</th>\n",
              "      <th>sentence2</th>\n",
              "      <th>char_counts_1</th>\n",
              "      <th>char_counts_2</th>\n",
              "    </tr>\n",
              "  </thead>\n",
              "  <tbody>\n",
              "    <tr>\n",
              "      <th>1</th>\n",
              "      <td>0.0</td>\n",
              "      <td>a person on a horse jumps over a broken down a...</td>\n",
              "      <td>a person is at a diner ordering an omelette</td>\n",
              "      <td>53</td>\n",
              "      <td>43</td>\n",
              "    </tr>\n",
              "    <tr>\n",
              "      <th>2</th>\n",
              "      <td>1.0</td>\n",
              "      <td>a person on a horse jumps over a broken down a...</td>\n",
              "      <td>a person is outdoors on a horse</td>\n",
              "      <td>53</td>\n",
              "      <td>31</td>\n",
              "    </tr>\n",
              "    <tr>\n",
              "      <th>4</th>\n",
              "      <td>1.0</td>\n",
              "      <td>children smiling and waving at camera</td>\n",
              "      <td>there are children present</td>\n",
              "      <td>37</td>\n",
              "      <td>26</td>\n",
              "    </tr>\n",
              "    <tr>\n",
              "      <th>5</th>\n",
              "      <td>0.0</td>\n",
              "      <td>children smiling and waving at camera</td>\n",
              "      <td>the kids are frowning</td>\n",
              "      <td>37</td>\n",
              "      <td>21</td>\n",
              "    </tr>\n",
              "    <tr>\n",
              "      <th>6</th>\n",
              "      <td>0.0</td>\n",
              "      <td>a boy is jumping on skateboard in the middle o...</td>\n",
              "      <td>the boy skates down the sidewalk</td>\n",
              "      <td>60</td>\n",
              "      <td>32</td>\n",
              "    </tr>\n",
              "  </tbody>\n",
              "</table>\n",
              "</div>"
            ],
            "text/plain": [
              "   similarity  ... char_counts_2\n",
              "1         0.0  ...            43\n",
              "2         1.0  ...            31\n",
              "4         1.0  ...            26\n",
              "5         0.0  ...            21\n",
              "6         0.0  ...            32\n",
              "\n",
              "[5 rows x 5 columns]"
            ]
          },
          "execution_count": 31,
          "metadata": {},
          "output_type": "execute_result"
        }
      ],
      "source": [
        "train_df.head()"
      ]
    },
    {
      "cell_type": "code",
      "execution_count": null,
      "metadata": {
        "id": "Y4SRBaStE_X2"
      },
      "outputs": [],
      "source": [
        "train_df['char_count_diff'] = abs(train_df['char_counts_1'] - train_df['char_counts_2'])\n",
        "test_df['char_count_diff'] = abs(test_df['char_counts_1'] - test_df['char_counts_2'])"
      ]
    },
    {
      "cell_type": "code",
      "execution_count": null,
      "metadata": {
        "id": "7_cQUAMqJ2eF"
      },
      "outputs": [],
      "source": [
        "def char_count_hypothesis(column):\n",
        "    if int(column) >= 8:\n",
        "        return 0\n",
        "    return 1"
      ]
    },
    {
      "cell_type": "code",
      "execution_count": null,
      "metadata": {
        "id": "3k4jZj9PJ2be"
      },
      "outputs": [],
      "source": [
        "train_df['char_count_predicted'] = train_df['char_count_diff'].apply(char_count_hypothesis)\n",
        "test_df['char_count_predicted'] = test_df['char_count_diff'].apply(char_count_hypothesis)"
      ]
    },
    {
      "cell_type": "code",
      "execution_count": null,
      "metadata": {
        "id": "yIetrrZPJ2Y5"
      },
      "outputs": [],
      "source": [
        "accuracy_train = sum(train_df['similarity'] == train_df['char_count_predicted']) / len(train_df)\n",
        "accuracy_test = sum(test_df['similarity'] == test_df['char_count_predicted']) / len(test_df)"
      ]
    },
    {
      "cell_type": "code",
      "execution_count": null,
      "metadata": {
        "colab": {
          "base_uri": "https://localhost:8080/"
        },
        "id": "ogPTjIpDKcIm",
        "outputId": "b580fd37-fadd-43ce-c7be-a5ea3f143981"
      },
      "outputs": [
        {
          "data": {
            "text/plain": [
              "0.47781908843177423"
            ]
          },
          "execution_count": 47,
          "metadata": {},
          "output_type": "execute_result"
        }
      ],
      "source": [
        "accuracy_train"
      ]
    },
    {
      "cell_type": "code",
      "execution_count": null,
      "metadata": {
        "colab": {
          "base_uri": "https://localhost:8080/"
        },
        "id": "1D3tvTTEKeFQ",
        "outputId": "8a938352-1e04-4f51-dad8-d31e786286f2"
      },
      "outputs": [
        {
          "data": {
            "text/plain": [
              "0.4752460257380772"
            ]
          },
          "execution_count": 48,
          "metadata": {},
          "output_type": "execute_result"
        }
      ],
      "source": [
        "accuracy_test"
      ]
    },
    {
      "cell_type": "markdown",
      "metadata": {
        "id": "k9iidNnxLiIa"
      },
      "source": [
        "### category counts"
      ]
    },
    {
      "cell_type": "code",
      "execution_count": null,
      "metadata": {
        "colab": {
          "base_uri": "https://localhost:8080/"
        },
        "id": "goX68dtBLk9u",
        "outputId": "4c10050e-4218-4d03-8e44-430d13d5471b"
      },
      "outputs": [
        {
          "name": "stdout",
          "output_type": "stream",
          "text": [
            "183414\n",
            "3329\n",
            "3368\n"
          ]
        }
      ],
      "source": [
        "print(len(df_train.loc[(df_train['similarity'] == 1)]))\n",
        "print(len(df_dev.loc[(df_dev['similarity'] == 1)]))\n",
        "print(len(df_test.loc[(df_test['similarity'] == 1)]))"
      ]
    },
    {
      "cell_type": "code",
      "execution_count": null,
      "metadata": {
        "colab": {
          "base_uri": "https://localhost:8080/"
        },
        "id": "lvfkBHUOLptA",
        "outputId": "56dcd008-2fd0-4482-ebe9-656be38ee483"
      },
      "outputs": [
        {
          "name": "stdout",
          "output_type": "stream",
          "text": [
            "183185\n",
            "3278\n",
            "3237\n"
          ]
        }
      ],
      "source": [
        "print(len(df_train.loc[(df_train['similarity'] == 0)]))\n",
        "print(len(df_dev.loc[(df_dev['similarity'] == 0)]))\n",
        "print(len(df_test.loc[(df_test['similarity'] == 0)]))"
      ]
    },
    {
      "cell_type": "code",
      "execution_count": 35,
      "metadata": {
        "id": "eBU8lgYUYtZN"
      },
      "outputs": [],
      "source": [
        "from tensorflow.keras import models, layers\n",
        "import tensorflow as tf\n",
        "from tensorflow import keras\n",
        "\n",
        "\n",
        "def binary_base_model(vocab):\n",
        "    base_model = models.Sequential()\n",
        "    base_model.add(layers.Embedding(input_dim=len(vocab) + 2, output_dim=128))\n",
        "    base_model.add(layers.Bidirectional(layers.GRU(128, return_sequences=True)))\n",
        "    base_model.add(layers.Bidirectional(layers.GRU(128, return_sequences=True)))\n",
        "    base_model.add(layers.GlobalAveragePooling1D())\n",
        "    base_model.add(layers.Dense(128, activation='relu'))\n",
        "    base_model.add(layers.Dropout(0.3))\n",
        "    base_model.add(layers.Dense(128, activation='relu'))\n",
        "    return base_model\n",
        "    # base_model = models.Sequential()\n",
        "    # base_model.add(layers.Embedding(input_dim=len(vocab) + 2, output_dim=128))\n",
        "    # base_model.add(layers.Conv1D(128, 3, padding='same'))\n",
        "    # base_model.add(layers.MaxPool1D())\n",
        "    # base_model.add(layers.BatchNormalization())\n",
        "    # base_model.add(layers.Dropout(0.2))\n",
        "    # base_model.add(layers.Conv1D(128, 3))\n",
        "    # base_model.add(layers.MaxPool1D())\n",
        "    # base_model.add(layers.Dropout(0.3))\n",
        "    # base_model.add(layers.Dense(128, activation='relu'))\n",
        "    # base_model.add(layers.Dropout(0.2))\n",
        "    # base_model.add(layers.Dense(128, activation='relu'))\n",
        "    # base_model.add(layers.Flatten())\n",
        "    return base_model\n",
        "\n",
        "\n",
        "def binary_model(vocab, data):\n",
        "    input1 = keras.Input(shape=(data.shape[1],))\n",
        "    input2 = keras.Input(shape=(data.shape[1],))\n",
        "\n",
        "    base_model = binary_base_model(vocab)\n",
        "\n",
        "    encoding1 = base_model(input1)\n",
        "    encoding2 = base_model(input2)\n",
        "\n",
        "    distance = layers.Concatenate()([encoding1, encoding2])\n",
        "    dense1 = layers.Dense(128, activation='relu')(distance)\n",
        "    bn = layers.BatchNormalization()(dense1)\n",
        "    dense2 = layers.Dense(128, activation='relu')(bn)\n",
        "    final = layers.Dense(1, activation='sigmoid')(dense2)\n",
        "    model = models.Model(inputs=[input1, input2], outputs=final)\n",
        "    return model\n",
        "\n",
        "from tensorflow.keras import backend as K\n",
        "\n",
        "\n",
        "def calculate_mean(x, axis=1):\n",
        "    return K.mean(x, axis=axis)\n",
        "\n",
        "\n",
        "def normalize(x):\n",
        "    return x / K.sqrt(K.sum(x * x, axis=-1, keepdims=True))\n",
        "\n",
        "\n",
        "\n",
        "def triplet_base_model(vocab):\n",
        "    base_model = tf.keras.Sequential()\n",
        "    base_model.add(tf.keras.layers.Embedding(\n",
        "        input_dim=len(vocab) + 2, output_dim=128))\n",
        "    base_model.add(tf.keras.layers.GRU(128, return_sequences=True))\n",
        "    base_model.add(tf.keras.layers.Lambda(calculate_mean, name='mean'))\n",
        "    base_model.add(tf.keras.layers.Lambda(normalize, name='normalize'))\n",
        "    return base_model\n",
        "\n",
        "\n",
        "def triplet_model(vocab, data):\n",
        "    input1 = tf.keras.layers.Input(shape=(data.shape[1],))\n",
        "    input2 = tf.keras.layers.Input(shape=(data.shape[1],))\n",
        "\n",
        "    base_model = triplet_base_model(vocab)\n",
        "\n",
        "    encoding1 = base_model(input1)\n",
        "    encoding2 = base_model(input2)\n",
        "\n",
        "    merged = tf.keras.layers.Concatenate()([encoding1, encoding2])\n",
        "\n",
        "    model = tf.keras.Model(inputs=[input1, input2], outputs=merged)\n",
        "    return model\n"
      ]
    },
    {
      "cell_type": "code",
      "execution_count": null,
      "metadata": {
        "id": "B9gaKRWiE8Rj"
      },
      "outputs": [],
      "source": [
        "def TripletLoss(margin=0.25):\n",
        "    def triplet(y_true, y_pred):\n",
        "        batch_size = tf.cast(tf.shape(y_true)[0], dtype=tf.float32)\n",
        "        v1, v2 = y_pred[:, :128], y_pred[:, -128:]\n",
        "        scores = K.dot(v1, K.transpose(v2))\n",
        "        positive = tf.linalg.diag_part(scores)\n",
        "        negative_without_positive = scores - 2 * tf.eye(batch_size)\n",
        "\n",
        "        closest_negative = tf.reduce_max(negative_without_positive, axis=1)\n",
        "\n",
        "        negative_zero_on_duplicate = scores * (1.0 - tf.eye(batch_size))\n",
        "\n",
        "        mean_negative = K.sum(negative_zero_on_duplicate,\n",
        "                              axis=1) / (batch_size - 1)\n",
        "\n",
        "        triplet_loss1 = K.maximum(0.0, margin - positive + closest_negative)\n",
        "\n",
        "        triplet_loss2 = K.maximum(0.0, margin - positive + mean_negative)\n",
        "\n",
        "        triplet_loss = K.mean(triplet_loss1 + triplet_loss2)\n",
        "\n",
        "        return triplet_loss\n",
        "    return triplet"
      ]
    },
    {
      "cell_type": "code",
      "execution_count": 7,
      "metadata": {
        "id": "9KBNI6FKNsS_"
      },
      "outputs": [],
      "source": [
        "df_train = read_data(TRAIN_DATA_PATH)\n",
        "df_dev = read_data(DEV_DATA_PATH)\n",
        "df_test = read_data(TEST_DATA_PATH)\n",
        "\n",
        "# print(len(df_train.loc[(df_train['similarity'] == 1)]))\n",
        "# print(len(df_dev.loc[(df_dev['similarity'] == 1)]))\n",
        "# print(len(df_test.loc[(df_dev['similarity'] == 1)]))\n",
        "# df_train.drop_duplicates(inplace=True)\n",
        "# df_dev.drop_duplicates(inplace=True)"
      ]
    },
    {
      "cell_type": "code",
      "execution_count": 8,
      "metadata": {
        "colab": {
          "base_uri": "https://localhost:8080/",
          "height": 423
        },
        "id": "AX3pV9MfWV4I",
        "outputId": "801fbd5a-579a-4f6e-e38c-7279a688b6db"
      },
      "outputs": [
        {
          "data": {
            "text/html": [
              "<div>\n",
              "<style scoped>\n",
              "    .dataframe tbody tr th:only-of-type {\n",
              "        vertical-align: middle;\n",
              "    }\n",
              "\n",
              "    .dataframe tbody tr th {\n",
              "        vertical-align: top;\n",
              "    }\n",
              "\n",
              "    .dataframe thead th {\n",
              "        text-align: right;\n",
              "    }\n",
              "</style>\n",
              "<table border=\"1\" class=\"dataframe\">\n",
              "  <thead>\n",
              "    <tr style=\"text-align: right;\">\n",
              "      <th></th>\n",
              "      <th>similarity</th>\n",
              "      <th>sentence1</th>\n",
              "      <th>sentence2</th>\n",
              "    </tr>\n",
              "  </thead>\n",
              "  <tbody>\n",
              "    <tr>\n",
              "      <th>1</th>\n",
              "      <td>0.0</td>\n",
              "      <td>a person on a horse jumps over a broken down a...</td>\n",
              "      <td>a person is at a diner ordering an omelette</td>\n",
              "    </tr>\n",
              "    <tr>\n",
              "      <th>2</th>\n",
              "      <td>1.0</td>\n",
              "      <td>a person on a horse jumps over a broken down a...</td>\n",
              "      <td>a person is outdoors on a horse</td>\n",
              "    </tr>\n",
              "    <tr>\n",
              "      <th>4</th>\n",
              "      <td>1.0</td>\n",
              "      <td>children smiling and waving at camera</td>\n",
              "      <td>there are children present</td>\n",
              "    </tr>\n",
              "    <tr>\n",
              "      <th>5</th>\n",
              "      <td>0.0</td>\n",
              "      <td>children smiling and waving at camera</td>\n",
              "      <td>the kids are frowning</td>\n",
              "    </tr>\n",
              "    <tr>\n",
              "      <th>6</th>\n",
              "      <td>0.0</td>\n",
              "      <td>a boy is jumping on skateboard in the middle o...</td>\n",
              "      <td>the boy skates down the sidewalk</td>\n",
              "    </tr>\n",
              "    <tr>\n",
              "      <th>...</th>\n",
              "      <td>...</td>\n",
              "      <td>...</td>\n",
              "      <td>...</td>\n",
              "    </tr>\n",
              "    <tr>\n",
              "      <th>550144</th>\n",
              "      <td>1.0</td>\n",
              "      <td>a dog with a blue collar plays ball outside</td>\n",
              "      <td>a dog is outside</td>\n",
              "    </tr>\n",
              "    <tr>\n",
              "      <th>550146</th>\n",
              "      <td>1.0</td>\n",
              "      <td>four dirty and barefooted children</td>\n",
              "      <td>four children have dirty feet</td>\n",
              "    </tr>\n",
              "    <tr>\n",
              "      <th>550147</th>\n",
              "      <td>0.0</td>\n",
              "      <td>four dirty and barefooted children</td>\n",
              "      <td>four kids won awards for cleanest feet</td>\n",
              "    </tr>\n",
              "    <tr>\n",
              "      <th>550150</th>\n",
              "      <td>0.0</td>\n",
              "      <td>a man is surfing in a bodysuit in beautiful bl...</td>\n",
              "      <td>a man in a business suit is heading to a board...</td>\n",
              "    </tr>\n",
              "    <tr>\n",
              "      <th>550151</th>\n",
              "      <td>1.0</td>\n",
              "      <td>a man is surfing in a bodysuit in beautiful bl...</td>\n",
              "      <td>on the beautiful blue water there is a man in ...</td>\n",
              "    </tr>\n",
              "  </tbody>\n",
              "</table>\n",
              "<p>366599 rows × 3 columns</p>\n",
              "</div>"
            ],
            "text/plain": [
              "        similarity  ...                                          sentence2\n",
              "1              0.0  ...        a person is at a diner ordering an omelette\n",
              "2              1.0  ...                    a person is outdoors on a horse\n",
              "4              1.0  ...                         there are children present\n",
              "5              0.0  ...                              the kids are frowning\n",
              "6              0.0  ...                   the boy skates down the sidewalk\n",
              "...            ...  ...                                                ...\n",
              "550144         1.0  ...                                   a dog is outside\n",
              "550146         1.0  ...                      four children have dirty feet\n",
              "550147         0.0  ...             four kids won awards for cleanest feet\n",
              "550150         0.0  ...  a man in a business suit is heading to a board...\n",
              "550151         1.0  ...  on the beautiful blue water there is a man in ...\n",
              "\n",
              "[366599 rows x 3 columns]"
            ]
          },
          "execution_count": 8,
          "metadata": {},
          "output_type": "execute_result"
        }
      ],
      "source": [
        "df_train"
      ]
    },
    {
      "cell_type": "code",
      "execution_count": 9,
      "metadata": {
        "colab": {
          "base_uri": "https://localhost:8080/",
          "height": 423
        },
        "id": "mH2C0nW7w6st",
        "outputId": "5bf5fb04-0498-4580-e1f9-c2e9d00d555f"
      },
      "outputs": [
        {
          "data": {
            "text/html": [
              "<div>\n",
              "<style scoped>\n",
              "    .dataframe tbody tr th:only-of-type {\n",
              "        vertical-align: middle;\n",
              "    }\n",
              "\n",
              "    .dataframe tbody tr th {\n",
              "        vertical-align: top;\n",
              "    }\n",
              "\n",
              "    .dataframe thead th {\n",
              "        text-align: right;\n",
              "    }\n",
              "</style>\n",
              "<table border=\"1\" class=\"dataframe\">\n",
              "  <thead>\n",
              "    <tr style=\"text-align: right;\">\n",
              "      <th></th>\n",
              "      <th>similarity</th>\n",
              "      <th>sentence1</th>\n",
              "      <th>sentence2</th>\n",
              "    </tr>\n",
              "  </thead>\n",
              "  <tbody>\n",
              "    <tr>\n",
              "      <th>1</th>\n",
              "      <td>1.0</td>\n",
              "      <td>two women are embracing while holding to go pa...</td>\n",
              "      <td>two woman are holding packages</td>\n",
              "    </tr>\n",
              "    <tr>\n",
              "      <th>2</th>\n",
              "      <td>0.0</td>\n",
              "      <td>two women are embracing while holding to go pa...</td>\n",
              "      <td>the men are fighting outside a deli</td>\n",
              "    </tr>\n",
              "    <tr>\n",
              "      <th>3</th>\n",
              "      <td>1.0</td>\n",
              "      <td>two young children in blue jerseys one with th...</td>\n",
              "      <td>two kids in numbered jerseys wash their hands</td>\n",
              "    </tr>\n",
              "    <tr>\n",
              "      <th>5</th>\n",
              "      <td>0.0</td>\n",
              "      <td>two young children in blue jerseys one with th...</td>\n",
              "      <td>two kids in jackets walk to school</td>\n",
              "    </tr>\n",
              "    <tr>\n",
              "      <th>6</th>\n",
              "      <td>0.0</td>\n",
              "      <td>a man selling donuts to a customer during a wo...</td>\n",
              "      <td>a woman drinks her coffee in a small cafe</td>\n",
              "    </tr>\n",
              "    <tr>\n",
              "      <th>...</th>\n",
              "      <td>...</td>\n",
              "      <td>...</td>\n",
              "      <td>...</td>\n",
              "    </tr>\n",
              "    <tr>\n",
              "      <th>9993</th>\n",
              "      <td>1.0</td>\n",
              "      <td>a uniformed competitor in motocross has crosse...</td>\n",
              "      <td>a person is on a motorcyle with spectators</td>\n",
              "    </tr>\n",
              "    <tr>\n",
              "      <th>9994</th>\n",
              "      <td>1.0</td>\n",
              "      <td>a small girl wearing a pink jacket is riding o...</td>\n",
              "      <td>the carousel is moving</td>\n",
              "    </tr>\n",
              "    <tr>\n",
              "      <th>9996</th>\n",
              "      <td>0.0</td>\n",
              "      <td>a small girl wearing a pink jacket is riding o...</td>\n",
              "      <td>the girl is moving at the speed of light</td>\n",
              "    </tr>\n",
              "    <tr>\n",
              "      <th>9997</th>\n",
              "      <td>1.0</td>\n",
              "      <td>a young girl with blue and pink ribbons in her...</td>\n",
              "      <td>people in a water fountain</td>\n",
              "    </tr>\n",
              "    <tr>\n",
              "      <th>9998</th>\n",
              "      <td>0.0</td>\n",
              "      <td>a young girl with blue and pink ribbons in her...</td>\n",
              "      <td>a young girl knits a sweater</td>\n",
              "    </tr>\n",
              "  </tbody>\n",
              "</table>\n",
              "<p>6607 rows × 3 columns</p>\n",
              "</div>"
            ],
            "text/plain": [
              "      similarity  ...                                      sentence2\n",
              "1            1.0  ...                 two woman are holding packages\n",
              "2            0.0  ...            the men are fighting outside a deli\n",
              "3            1.0  ...  two kids in numbered jerseys wash their hands\n",
              "5            0.0  ...             two kids in jackets walk to school\n",
              "6            0.0  ...      a woman drinks her coffee in a small cafe\n",
              "...          ...  ...                                            ...\n",
              "9993         1.0  ...     a person is on a motorcyle with spectators\n",
              "9994         1.0  ...                         the carousel is moving\n",
              "9996         0.0  ...       the girl is moving at the speed of light\n",
              "9997         1.0  ...                     people in a water fountain\n",
              "9998         0.0  ...                   a young girl knits a sweater\n",
              "\n",
              "[6607 rows x 3 columns]"
            ]
          },
          "execution_count": 9,
          "metadata": {},
          "output_type": "execute_result"
        }
      ],
      "source": [
        "df_dev"
      ]
    },
    {
      "cell_type": "code",
      "execution_count": 10,
      "metadata": {
        "colab": {
          "base_uri": "https://localhost:8080/",
          "height": 423
        },
        "id": "dMQPCtWOw8Bk",
        "outputId": "cfa867a4-030a-4226-850a-a4e4299d4059"
      },
      "outputs": [
        {
          "data": {
            "text/html": [
              "<div>\n",
              "<style scoped>\n",
              "    .dataframe tbody tr th:only-of-type {\n",
              "        vertical-align: middle;\n",
              "    }\n",
              "\n",
              "    .dataframe tbody tr th {\n",
              "        vertical-align: top;\n",
              "    }\n",
              "\n",
              "    .dataframe thead th {\n",
              "        text-align: right;\n",
              "    }\n",
              "</style>\n",
              "<table border=\"1\" class=\"dataframe\">\n",
              "  <thead>\n",
              "    <tr style=\"text-align: right;\">\n",
              "      <th></th>\n",
              "      <th>similarity</th>\n",
              "      <th>sentence1</th>\n",
              "      <th>sentence2</th>\n",
              "    </tr>\n",
              "  </thead>\n",
              "  <tbody>\n",
              "    <tr>\n",
              "      <th>1</th>\n",
              "      <td>1.0</td>\n",
              "      <td>this church choir sings to the masses as they ...</td>\n",
              "      <td>the church is filled with song</td>\n",
              "    </tr>\n",
              "    <tr>\n",
              "      <th>2</th>\n",
              "      <td>0.0</td>\n",
              "      <td>this church choir sings to the masses as they ...</td>\n",
              "      <td>a choir singing at a baseball game</td>\n",
              "    </tr>\n",
              "    <tr>\n",
              "      <th>4</th>\n",
              "      <td>1.0</td>\n",
              "      <td>a woman with a green headscarf blue shirt and ...</td>\n",
              "      <td>the woman is very happy</td>\n",
              "    </tr>\n",
              "    <tr>\n",
              "      <th>5</th>\n",
              "      <td>0.0</td>\n",
              "      <td>a woman with a green headscarf blue shirt and ...</td>\n",
              "      <td>the woman has been shot</td>\n",
              "    </tr>\n",
              "    <tr>\n",
              "      <th>6</th>\n",
              "      <td>1.0</td>\n",
              "      <td>an old man with a package poses in front of an...</td>\n",
              "      <td>a man poses in front of an ad</td>\n",
              "    </tr>\n",
              "    <tr>\n",
              "      <th>...</th>\n",
              "      <td>...</td>\n",
              "      <td>...</td>\n",
              "      <td>...</td>\n",
              "    </tr>\n",
              "    <tr>\n",
              "      <th>9992</th>\n",
              "      <td>0.0</td>\n",
              "      <td>a female dancer wearing all white dancing whil...</td>\n",
              "      <td>some players are playing cricket in ground</td>\n",
              "    </tr>\n",
              "    <tr>\n",
              "      <th>9995</th>\n",
              "      <td>0.0</td>\n",
              "      <td>two women are observing something together</td>\n",
              "      <td>two women are standing with their eyes closed</td>\n",
              "    </tr>\n",
              "    <tr>\n",
              "      <th>9996</th>\n",
              "      <td>1.0</td>\n",
              "      <td>two women are observing something together</td>\n",
              "      <td>two girls are looking at something</td>\n",
              "    </tr>\n",
              "    <tr>\n",
              "      <th>9997</th>\n",
              "      <td>0.0</td>\n",
              "      <td>a man in a black leather jacket and a book in ...</td>\n",
              "      <td>a man is flying a kite</td>\n",
              "    </tr>\n",
              "    <tr>\n",
              "      <th>9998</th>\n",
              "      <td>1.0</td>\n",
              "      <td>a man in a black leather jacket and a book in ...</td>\n",
              "      <td>a man is speaking in a classroom</td>\n",
              "    </tr>\n",
              "  </tbody>\n",
              "</table>\n",
              "<p>6605 rows × 3 columns</p>\n",
              "</div>"
            ],
            "text/plain": [
              "      similarity  ...                                      sentence2\n",
              "1            1.0  ...                 the church is filled with song\n",
              "2            0.0  ...             a choir singing at a baseball game\n",
              "4            1.0  ...                        the woman is very happy\n",
              "5            0.0  ...                        the woman has been shot\n",
              "6            1.0  ...                  a man poses in front of an ad\n",
              "...          ...  ...                                            ...\n",
              "9992         0.0  ...     some players are playing cricket in ground\n",
              "9995         0.0  ...  two women are standing with their eyes closed\n",
              "9996         1.0  ...             two girls are looking at something\n",
              "9997         0.0  ...                         a man is flying a kite\n",
              "9998         1.0  ...               a man is speaking in a classroom\n",
              "\n",
              "[6605 rows x 3 columns]"
            ]
          },
          "execution_count": 10,
          "metadata": {},
          "output_type": "execute_result"
        }
      ],
      "source": [
        "df_test"
      ]
    },
    {
      "cell_type": "code",
      "execution_count": 11,
      "metadata": {
        "id": "-zCguysNOU99"
      },
      "outputs": [],
      "source": [
        "train_sen1 = df_train['sentence1'].tolist()[:100000]\n",
        "train_sen2 = df_train['sentence2'].tolist()[:100000]\n",
        "\n",
        "# train_sen1 = df_train['sentence1'].tolist()\n",
        "# train_sen2 = df_train['sentence2'].tolist()\n",
        "\n",
        "dev_sen1 = df_dev['sentence1'].tolist()\n",
        "dev_sen2 = df_dev['sentence2'].tolist()\n",
        "\n",
        "test_sen1 = df_test['sentence1'].tolist()\n",
        "test_sen2 = df_test['sentence2'].tolist()\n",
        "\n",
        "train_label = df_train['similarity'].tolist()\n",
        "dev_label = df_dev['similarity'].tolist()\n",
        "test_label = df_test['similarity'].tolist()"
      ]
    },
    {
      "cell_type": "code",
      "execution_count": null,
      "metadata": {
        "id": "RnY6-FOrZyE-"
      },
      "outputs": [],
      "source": [
        "# train_sen1"
      ]
    },
    {
      "cell_type": "code",
      "execution_count": 12,
      "metadata": {
        "id": "9seZrJGZOa8i"
      },
      "outputs": [],
      "source": [
        "train_data1, train_data2 = prepare_data(\n",
        "    sentence1=train_sen1, \n",
        "    sentence2=train_sen2,\n",
        "    vocab_path= BINARY_VOCAB_PATH, \n",
        "    training=True,\n",
        "    )"
      ]
    },
    {
      "cell_type": "code",
      "execution_count": 13,
      "metadata": {
        "id": "LuudCI0tOcMV"
      },
      "outputs": [],
      "source": [
        "dev_data1, dev_data2 = prepare_data(\n",
        "    sentence1=dev_sen1, \n",
        "    sentence2=dev_sen2,\n",
        "    vocab_path= BINARY_VOCAB_PATH, \n",
        "    training=False,\n",
        "    )"
      ]
    },
    {
      "cell_type": "code",
      "execution_count": 14,
      "metadata": {
        "id": "7737JOmWRgxe"
      },
      "outputs": [],
      "source": [
        "test_data1, test_data2 = prepare_data(\n",
        "    sentence1=test_sen1, \n",
        "    sentence2=test_sen2,\n",
        "    vocab_path= BINARY_VOCAB_PATH, \n",
        "    training=False,\n",
        "    )"
      ]
    },
    {
      "cell_type": "code",
      "execution_count": 15,
      "metadata": {
        "id": "r492JVLW77p6"
      },
      "outputs": [],
      "source": [
        "train_label = train_label[:100000]"
      ]
    },
    {
      "cell_type": "code",
      "execution_count": 16,
      "metadata": {
        "id": "7HiGoT7rRwVL"
      },
      "outputs": [],
      "source": [
        "train_label = np.array(train_label).astype('int32')\n",
        "dev_label = np.array(dev_label).astype('int32')\n",
        "test_label = np.array(test_label).astype('int32')"
      ]
    },
    {
      "cell_type": "code",
      "execution_count": 17,
      "metadata": {
        "id": "pLXNutoWSDYj"
      },
      "outputs": [],
      "source": [
        "vocab = pickle.load(open(BINARY_VOCAB_PATH, 'rb'))"
      ]
    },
    {
      "cell_type": "code",
      "execution_count": 36,
      "metadata": {
        "id": "-0bvvLcBSU7M"
      },
      "outputs": [],
      "source": [
        "model = binary_model(vocab, train_data1)\n",
        "# model = triplet_model(vocab, train_data1)"
      ]
    },
    {
      "cell_type": "code",
      "execution_count": 37,
      "metadata": {
        "colab": {
          "base_uri": "https://localhost:8080/"
        },
        "id": "AIAKoPUbSm0u",
        "outputId": "285831a4-d589-4268-a1a7-4755fba21c7b"
      },
      "outputs": [
        {
          "name": "stdout",
          "output_type": "stream",
          "text": [
            "Model: \"model_1\"\n",
            "__________________________________________________________________________________________________\n",
            " Layer (type)                   Output Shape         Param #     Connected to                     \n",
            "==================================================================================================\n",
            " input_3 (InputLayer)           [(None, 50)]         0           []                               \n",
            "                                                                                                  \n",
            " input_4 (InputLayer)           [(None, 50)]         0           []                               \n",
            "                                                                                                  \n",
            " sequential_1 (Sequential)      (None, 128)          2162432     ['input_3[0][0]',                \n",
            "                                                                  'input_4[0][0]']                \n",
            "                                                                                                  \n",
            " concatenate_1 (Concatenate)    (None, 256)          0           ['sequential_1[0][0]',           \n",
            "                                                                  'sequential_1[1][0]']           \n",
            "                                                                                                  \n",
            " dense_7 (Dense)                (None, 128)          32896       ['concatenate_1[0][0]']          \n",
            "                                                                                                  \n",
            " batch_normalization_1 (BatchNo  (None, 128)         512         ['dense_7[0][0]']                \n",
            " rmalization)                                                                                     \n",
            "                                                                                                  \n",
            " dense_8 (Dense)                (None, 128)          16512       ['batch_normalization_1[0][0]']  \n",
            "                                                                                                  \n",
            " dense_9 (Dense)                (None, 1)            129         ['dense_8[0][0]']                \n",
            "                                                                                                  \n",
            "==================================================================================================\n",
            "Total params: 2,212,481\n",
            "Trainable params: 2,212,225\n",
            "Non-trainable params: 256\n",
            "__________________________________________________________________________________________________\n"
          ]
        }
      ],
      "source": [
        "model.summary()"
      ]
    },
    {
      "cell_type": "code",
      "execution_count": 38,
      "metadata": {
        "id": "L9hROdX4SsLl"
      },
      "outputs": [],
      "source": [
        "def compile_and_train(\n",
        "        model, optimizer,\n",
        "        loss, metrics: list,\n",
        "        training_data: tuple,\n",
        "        evaluation_data: tuple\n",
        "):\n",
        "    if metrics:\n",
        "        model.compile(\n",
        "            optimizer=optimizer,\n",
        "            loss=loss,\n",
        "            metrics=metrics\n",
        "        )\n",
        "    else:\n",
        "        model.compile(\n",
        "            optimizer=optimizer,\n",
        "            loss=loss\n",
        "        )\n",
        "    history = model.fit(\n",
        "        training_data[0], training_data[1],\n",
        "        batch_size=BATCH_SIZE, epochs=EPOCHS, validation_data=evaluation_data)\n",
        "    return history.history"
      ]
    },
    {
      "cell_type": "code",
      "execution_count": 39,
      "metadata": {
        "colab": {
          "base_uri": "https://localhost:8080/"
        },
        "id": "fXV2eZwBS16t",
        "outputId": "09fe4920-902f-47e9-c761-d7160fc09e10"
      },
      "outputs": [
        {
          "name": "stdout",
          "output_type": "stream",
          "text": [
            "Epoch 1/5\n",
            "1563/1563 [==============================] - 177s 104ms/step - loss: 0.5348 - accuracy: 0.7222 - val_loss: 0.5027 - val_accuracy: 0.7530\n",
            "Epoch 2/5\n",
            "1563/1563 [==============================] - 157s 101ms/step - loss: 0.4741 - accuracy: 0.7688 - val_loss: 0.5009 - val_accuracy: 0.7592\n",
            "Epoch 3/5\n",
            "1563/1563 [==============================] - 157s 101ms/step - loss: 0.4493 - accuracy: 0.7831 - val_loss: 0.5122 - val_accuracy: 0.7432\n",
            "Epoch 4/5\n",
            "1563/1563 [==============================] - 157s 101ms/step - loss: 0.4285 - accuracy: 0.7956 - val_loss: 0.4922 - val_accuracy: 0.7652\n",
            "Epoch 5/5\n",
            "1563/1563 [==============================] - 157s 100ms/step - loss: 0.4093 - accuracy: 0.8065 - val_loss: 0.4906 - val_accuracy: 0.7724\n"
          ]
        }
      ],
      "source": [
        "history = compile_and_train(\n",
        "    model,\n",
        "    tf.keras.optimizers.Adam(LEARNING_RATE),\n",
        "    'binary_crossentropy',\n",
        "    ['accuracy'],\n",
        "    ([train_data1, train_data2], train_label),\n",
        "    ([dev_data1, dev_data2], dev_label)\n",
        ")"
      ]
    },
    {
      "cell_type": "code",
      "execution_count": 40,
      "metadata": {
        "id": "aWv3RduVY3hZ"
      },
      "outputs": [],
      "source": [
        "model.save(DATA_PATH + 'binary_loss_model_LSTMMM.h5')"
      ]
    },
    {
      "cell_type": "code",
      "execution_count": 41,
      "metadata": {
        "id": "R3D7Vj10WiXH"
      },
      "outputs": [],
      "source": [
        "# model = models.load_model(DATA_PATH+'binary_loss_model1.h5')"
      ]
    },
    {
      "cell_type": "code",
      "execution_count": 42,
      "metadata": {
        "id": "oINdpmasFUib"
      },
      "outputs": [],
      "source": [
        "# def predict(model, sentence1, sentence2, cosine=False):\n",
        "#     sentence1 = sentence1.reshape(1,50)\n",
        "#     sentence2 = sentence2.reshape(1,50)\n",
        "#     v = model.predict([sentence1, sentence2])\n",
        "#     v1, v2 = v[:,:128], v[:,-128:]\n",
        "#     similarity = np.dot(v1,v2.T)[0][0]\n",
        "#     if similarity >= 0.70:\n",
        "#         return 1\n",
        "#     return 0"
      ]
    },
    {
      "cell_type": "code",
      "execution_count": 43,
      "metadata": {
        "id": "n-psWECdFUgG"
      },
      "outputs": [],
      "source": [
        "# preds = []\n",
        "# for idx in range(len(test_data1)):\n",
        "#     preds.append(predict(model,test_data1[idx], test_data2[idx]))"
      ]
    },
    {
      "cell_type": "code",
      "execution_count": 44,
      "metadata": {
        "id": "3gYa9DiVHkBa"
      },
      "outputs": [],
      "source": [
        "# preds == 1"
      ]
    },
    {
      "cell_type": "code",
      "execution_count": 45,
      "metadata": {
        "id": "iAi3_WjbFY8X"
      },
      "outputs": [],
      "source": [
        "# sum(test_label == preds) / len(test_label) #5282"
      ]
    },
    {
      "cell_type": "code",
      "execution_count": 46,
      "metadata": {
        "id": "b78jIdvGWnh8"
      },
      "outputs": [],
      "source": [
        "def predict(model,data):\n",
        "    test_data1, test_data2 = data\n",
        "    preds = model.predict([test_data1,test_data2])\n",
        "    preds_list = [1 if p[0] >= 0.5 else 0 for p in preds ]\n",
        "    return preds_list"
      ]
    },
    {
      "cell_type": "code",
      "execution_count": 47,
      "metadata": {
        "id": "WT3W6l8UW64t"
      },
      "outputs": [],
      "source": [
        "preds = predict(model, [test_data1, test_data2])"
      ]
    },
    {
      "cell_type": "code",
      "execution_count": 48,
      "metadata": {
        "colab": {
          "base_uri": "https://localhost:8080/"
        },
        "id": "qOrxI6WiXNDc",
        "outputId": "73b91e13-a025-4d58-99d3-82c3fc30b789"
      },
      "outputs": [
        {
          "data": {
            "text/plain": [
              "0.7635124905374716"
            ]
          },
          "execution_count": 48,
          "metadata": {},
          "output_type": "execute_result"
        }
      ],
      "source": [
        "sum(test_label == preds) / len(test_label)"
      ]
    },
    {
      "cell_type": "code",
      "execution_count": 26,
      "metadata": {
        "colab": {
          "base_uri": "https://localhost:8080/"
        },
        "id": "K7roD4d23WGg",
        "outputId": "db3cea54-d397-4330-d3e0-074931cd2afb"
      },
      "outputs": [
        {
          "name": "stdout",
          "output_type": "stream",
          "text": [
            "              precision    recall  f1-score   support\n",
            "\n",
            "           0       0.76      0.75      0.75      3237\n",
            "           1       0.76      0.78      0.77      3368\n",
            "\n",
            "    accuracy                           0.76      6605\n",
            "   macro avg       0.76      0.76      0.76      6605\n",
            "weighted avg       0.76      0.76      0.76      6605\n",
            "\n"
          ]
        }
      ],
      "source": [
        "from sklearn.metrics import confusion_matrix, classification_report\n",
        "import matplotlib.pyplot as plt\n",
        "import seaborn as sns\n",
        "print(classification_report(test_label, preds))"
      ]
    },
    {
      "cell_type": "code",
      "execution_count": 49,
      "metadata": {
        "id": "_nhrprTV3jNl"
      },
      "outputs": [],
      "source": [
        "conf_mat = confusion_matrix(test_label, preds)"
      ]
    },
    {
      "cell_type": "code",
      "execution_count": 50,
      "metadata": {
        "id": "tWDJtBVv4QcW"
      },
      "outputs": [],
      "source": [
        "def draw_confusion_matrix(y_test, y_pred, labels):\n",
        "    conf_mat = confusion_matrix(y_test, y_pred)\n",
        "    sns.set(font_scale=1.4)\n",
        "    df_cm = pd.DataFrame(conf_mat, index = labels,columns =labels)\n",
        "    plt.figure(figsize=(10,8))\n",
        "    sns.heatmap(df_cm, annot=True, cmap=plt.get_cmap('OrRd'), fmt='g')\n",
        "    plt.title(\"Confusion Matrix\")\n",
        "    plt.xlabel(\"Predicted Label\")\n",
        "    plt.ylabel(\"True Label\")\n",
        "    plt.show()"
      ]
    },
    {
      "cell_type": "code",
      "execution_count": 51,
      "metadata": {
        "id": "wQKf-K0A4Uye"
      },
      "outputs": [],
      "source": [
        "def draw_precision_recall_chart(y_test, y_pred, labels):\n",
        "    clf_report = classification_report(\n",
        "        y_test,\n",
        "        y_pred,\n",
        "        labels=labels,\n",
        "        target_names=labels,\n",
        "        output_dict=True\n",
        "        )\n",
        "    clf_report_df = pd.DataFrame(clf_report)\n",
        "    clf_report_df.drop(\"support\", axis=0, inplace=True)\n",
        "    clf_report_df.drop(['macro avg', \"weighted avg\"], axis=1, inplace=True)\n",
        "    sns.set(font_scale=1.4)\n",
        "    plt.figure(figsize=(10, 8))\n",
        "    sns.heatmap(clf_report_df.T, annot=True, cmap=plt.get_cmap('OrRd'), fmt='.3g')\n",
        "    plt.title(\"Classification Report\")\n",
        "    plt.show()"
      ]
    },
    {
      "cell_type": "code",
      "execution_count": 52,
      "metadata": {
        "id": "mxp-TC234bVE"
      },
      "outputs": [],
      "source": [
        "labels = ['Similar', 'Different']"
      ]
    },
    {
      "cell_type": "code",
      "execution_count": 53,
      "metadata": {
        "colab": {
          "base_uri": "https://localhost:8080/",
          "height": 532
        },
        "id": "xPh3cVCI4ecz",
        "outputId": "37c83b96-f618-4589-a4f1-c31657aed52a"
      },
      "outputs": [
        {
          "data": {
            "image/png": "[encoded data removed]",
            "text/plain": [
              "<Figure size 720x576 with 2 Axes>"
            ]
          },
          "metadata": {},
          "output_type": "display_data"
        }
      ],
      "source": [
        "draw_confusion_matrix(test_label, preds, labels)"
      ]
    },
    {
      "cell_type": "code",
      "execution_count": 54,
      "metadata": {
        "colab": {
          "base_uri": "https://localhost:8080/",
          "height": 277
        },
        "id": "KGGc2r2mJPsy",
        "outputId": "bd0d1b1f-3b4c-4085-bbd2-64be2a57ae4d"
      },
      "outputs": [
        {
          "data": {
            "image/png": "[encoded data removed]",
            "text/plain": [
              "<Figure size 432x288 with 1 Axes>"
            ]
          },
          "metadata": {},
          "output_type": "display_data"
        }
      ],
      "source": [
        "plt.plot(range(1,6), history['loss'], label=\"Training Loss\")\n",
        "plt.plot(range(1,6), history['val_loss'], label=\"Validation Loss\")\n",
        "plt.legend()\n",
        "plt.show()"
      ]
    },
    {
      "cell_type": "code",
      "execution_count": 55,
      "metadata": {
        "colab": {
          "base_uri": "https://localhost:8080/",
          "height": 273
        },
        "id": "cvvCNz7v9zuA",
        "outputId": "5da1907d-3106-4d45-e83c-a4bd9a637027"
      },
      "outputs": [
        {
          "data": {
            "image/png": "[encoded data removed]",
            "text/plain": [
              "<Figure size 432x288 with 1 Axes>"
            ]
          },
          "metadata": {},
          "output_type": "display_data"
        }
      ],
      "source": [
        "plt.plot(range(1,6), history['accuracy'], label=\"Training Accuracy\")\n",
        "plt.plot(range(1,6), history['val_accuracy'], label=\"Validation Accuracy\")\n",
        "plt.legend()\n",
        "plt.show()"
      ]
    },
    {
      "cell_type": "markdown",
      "metadata": {
        "id": "s3f-xkUXZaP3"
      },
      "source": [
        "## Word embedding model"
      ]
    },
    {
      "cell_type": "code",
      "execution_count": null,
      "metadata": {
        "id": "cK-e0nMv-QXB"
      },
      "outputs": [],
      "source": [
        "from sklearn.metrics.pairwise import cosine_similarity\n",
        "\n",
        "def sentence_embedding(sentence, model):\n",
        "    wv = []\n",
        "    for word in sentence:\n",
        "        try:\n",
        "            wv.append(model.wv[word])\n",
        "        except KeyError:\n",
        "            pass\n",
        "\n",
        "    return sum(wv) / len(sentence)\n",
        "    # return sum([model.wv[word] for word in sentence]) / len(sentence)\n",
        "\n",
        "def predict(similarity, threshold=0.5):\n",
        "    if similarity >= threshold:\n",
        "        return 1\n",
        "    return 0"
      ]
    },
    {
      "cell_type": "code",
      "execution_count": null,
      "metadata": {
        "id": "aUeezUfOZdIc"
      },
      "outputs": [],
      "source": [
        "from gensim.test.utils import common_texts\n",
        "from gensim.models import Word2Vec"
      ]
    },
    {
      "cell_type": "code",
      "execution_count": null,
      "metadata": {
        "id": "egWl2LuYatZe"
      },
      "outputs": [],
      "source": [
        "sentences = train_data1 + train_data2"
      ]
    },
    {
      "cell_type": "code",
      "execution_count": null,
      "metadata": {
        "id": "CN20Jtf_eyAI"
      },
      "outputs": [],
      "source": [
        "from gensim.models import Word2Vec\n",
        "from gensim.models.word2vec import LineSentence\n",
        "from gensim.models.callbacks import CallbackAny2Vec\n",
        "import os\n",
        "class callback(CallbackAny2Vec):\n",
        "    '''Callback to print loss after each epoch.'''\n",
        "\n",
        "    def __init__(self):\n",
        "        self.epoch = 0\n",
        "        self.loss_to_be_subed = 0\n",
        "\n",
        "    def on_epoch_end(self, model):\n",
        "        loss = model.get_latest_training_loss()\n",
        "        loss_now = loss - self.loss_to_be_subed\n",
        "        self.loss_to_be_subed = loss\n",
        "        print('Loss after epoch {}: {}'.format(self.epoch, loss_now))\n",
        "        self.epoch += 1"
      ]
    },
    {
      "cell_type": "code",
      "execution_count": null,
      "metadata": {
        "colab": {
          "base_uri": "https://localhost:8080/"
        },
        "id": "wJPJbbSualQv",
        "outputId": "75d622ae-259e-4615-c278-e211efaef146"
      },
      "outputs": [
        {
          "name": "stdout",
          "output_type": "stream",
          "text": [
            "Loss after epoch 0: 3932695.0\n",
            "Loss after epoch 1: 3547935.5\n",
            "Loss after epoch 2: 3273197.5\n",
            "Loss after epoch 3: 3134878.0\n",
            "Loss after epoch 4: 3084898.0\n",
            "Loss after epoch 5: 2581008.0\n",
            "Loss after epoch 6: 2561308.0\n",
            "Loss after epoch 7: 2542918.0\n",
            "Loss after epoch 8: 2525846.0\n",
            "Loss after epoch 9: 2507462.0\n",
            "Loss after epoch 10: 2474754.0\n",
            "Loss after epoch 11: 2142304.0\n",
            "Loss after epoch 12: 1672004.0\n",
            "Loss after epoch 13: 1631464.0\n",
            "Loss after epoch 14: 1581548.0\n",
            "Loss after epoch 15: 1540264.0\n",
            "Loss after epoch 16: 1490976.0\n",
            "Loss after epoch 17: 1445056.0\n",
            "Loss after epoch 18: 1368560.0\n",
            "Loss after epoch 19: 1327440.0\n"
          ]
        },
        {
          "data": {
            "text/plain": [
              "(88914561, 145333040)"
            ]
          },
          "execution_count": 87,
          "metadata": {},
          "output_type": "execute_result"
        }
      ],
      "source": [
        "model = Word2Vec(sentences=sentences,size=150, window=10, min_count=2, workers=os.cpu_count())\n",
        "model.train(sentences, total_examples=len(sentences), epochs=20, compute_loss=True, callbacks=[callback()])"
      ]
    },
    {
      "cell_type": "code",
      "execution_count": null,
      "metadata": {
        "id": "1MjMoT0YfnlD"
      },
      "outputs": [],
      "source": []
    },
    {
      "cell_type": "code",
      "execution_count": null,
      "metadata": {
        "id": "LrQ-HHuFavZj"
      },
      "outputs": [],
      "source": [
        "model.save(DATA_PATH+ \"word2vec.model\")"
      ]
    },
    {
      "cell_type": "code",
      "execution_count": null,
      "metadata": {
        "id": "Eu1oRGJLa-28"
      },
      "outputs": [],
      "source": [
        "sent_1_embeddings = [sentence_embedding(sentence, model) for sentence in train_sen1]\n",
        "sent_2_embeddings = [sentence_embedding(sentence, model) for sentence in train_sen2]"
      ]
    },
    {
      "cell_type": "code",
      "execution_count": null,
      "metadata": {
        "id": "imDmvaP0bA7O"
      },
      "outputs": [],
      "source": [
        "def similarity(sentence1, sentence2):\n",
        "    sentence1 = sentence1.reshape(1,-1)\n",
        "    sentence2 = sentence2.reshape(1,-1)\n",
        "    similarity_mat = cosine_similarity(sentence1, sentence2)\n",
        "    return similarity_mat[0][0]"
      ]
    },
    {
      "cell_type": "code",
      "execution_count": null,
      "metadata": {
        "id": "JtlCNuq3bChq"
      },
      "outputs": [],
      "source": [
        "similars = [similarity(sent_1_embeddings[idx], sent_2_embeddings[idx]) \\\n",
        "            for idx in range(len(sent_2_embeddings))]"
      ]
    },
    {
      "cell_type": "code",
      "execution_count": null,
      "metadata": {
        "id": "P6wxJm70bEfr"
      },
      "outputs": [],
      "source": [
        "pred = [predict(similarity_score) for similarity_score in similars]"
      ]
    },
    {
      "cell_type": "code",
      "execution_count": null,
      "metadata": {
        "id": "_MqDZOaWbGaW"
      },
      "outputs": [],
      "source": [
        "accuracy = sum(np.array(train_label) == np.array(pred)) / len(pred)"
      ]
    },
    {
      "cell_type": "code",
      "execution_count": null,
      "metadata": {
        "id": "dRc6-qtKbIH6"
      },
      "outputs": [],
      "source": [
        "accuracy"
      ]
    },
    {
      "cell_type": "code",
      "execution_count": null,
      "metadata": {
        "id": "YZUbTdUPikxp"
      },
      "outputs": [],
      "source": []
    }
  ],
  "metadata": {
    "accelerator": "GPU",
    "colab": {
      "collapsed_sections": [],
      "name": "BINARY_SIAMESE_MODEL.ipynb",
      "provenance": []
    },
    "kernelspec": {
      "display_name": "Python 3",
      "name": "python3"
    },
    "language_info": {
      "codemirror_mode": {
        "name": "ipython",
        "version": 3
      },
      "file_extension": ".py",
      "mimetype": "text/x-python",
      "name": "python",
      "nbconvert_exporter": "python",
      "pygments_lexer": "ipython3",
      "version": "3.8.12"
    }
  },
  "nbformat": 4,
  "nbformat_minor": 0
}
